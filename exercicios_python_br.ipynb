{
  "nbformat": 4,
  "nbformat_minor": 0,
  "metadata": {
    "colab": {
      "name": "exercicios_python_br.ipynb",
      "provenance": [],
      "collapsed_sections": [],
      "authorship_tag": "ABX9TyNkSGq/kLSdj9GhkqW0iVej",
      "include_colab_link": true
    },
    "kernelspec": {
      "display_name": "Python 3",
      "name": "python3"
    },
    "language_info": {
      "name": "python"
    }
  },
  "cells": [
    {
      "cell_type": "markdown",
      "metadata": {
        "id": "view-in-github",
        "colab_type": "text"
      },
      "source": [
        "<a href=\"https://colab.research.google.com/github/luanbrazz/exercicios_python_brasil/blob/main/exercicios_python_br.ipynb\" target=\"_parent\"><img src=\"https://colab.research.google.com/assets/colab-badge.svg\" alt=\"Open In Colab\"/></a>"
      ]
    },
    {
      "cell_type": "markdown",
      "metadata": {
        "id": "XBh-agvAqC7G"
      },
      "source": [
        "# EXERCÍCIOS PYTHON BRASIL"
      ]
    },
    {
      "cell_type": "markdown",
      "metadata": {
        "id": "AekOj5jRqM3z"
      },
      "source": [
        "Nesse notebook vamos resolver vários exercicios da lista [Python Brasil](https://wiki.python.org.br/ListaDeExercicios)\n",
        "\n",
        "---\n",
        "\n"
      ]
    },
    {
      "cell_type": "markdown",
      "metadata": {
        "id": "24FjU076qqHG"
      },
      "source": [
        "# [Estrutura Sequencial](https://wiki.python.org.br/EstruturaSequencial)"
      ]
    },
    {
      "cell_type": "markdown",
      "metadata": {
        "id": "t1Ss3nCcteZc"
      },
      "source": [
        "**Exercício 1** Faça um Programa que mostre a mensagem \"Alo mundo\" na tela."
      ]
    },
    {
      "cell_type": "code",
      "metadata": {
        "colab": {
          "base_uri": "https://localhost:8080/"
        },
        "id": "P5e67GhrtpdE",
        "outputId": "a5d4917b-cfea-4465-e007-ac487d54a4e4"
      },
      "source": [
        "print(\"Olá Mundo\")"
      ],
      "execution_count": null,
      "outputs": [
        {
          "name": "stdout",
          "output_type": "stream",
          "text": [
            "Olá Mundo\n"
          ]
        }
      ]
    },
    {
      "cell_type": "code",
      "metadata": {
        "colab": {
          "base_uri": "https://localhost:8080/"
        },
        "id": "GA64wPtStwAr",
        "outputId": "584658f3-415c-4dfe-c158-9b8c171e1946"
      },
      "source": [
        "type(\"olá Mundo\")"
      ],
      "execution_count": null,
      "outputs": [
        {
          "data": {
            "text/plain": [
              "str"
            ]
          },
          "execution_count": 3,
          "metadata": {},
          "output_type": "execute_result"
        }
      ]
    },
    {
      "cell_type": "markdown",
      "metadata": {
        "id": "6_yoJlvRt5rs"
      },
      "source": [
        "**Exercício 2** Faça um Programa que peça um número e então mostre a mensagem O número informado foi [número]."
      ]
    },
    {
      "cell_type": "code",
      "metadata": {
        "colab": {
          "base_uri": "https://localhost:8080/"
        },
        "id": "Hpfzf8riHuF_",
        "outputId": "3d68853e-7583-4e83-db3e-c4cec21eb492"
      },
      "source": [
        "número = input (\"Digite um número: \")\n",
        "print (f'O número informado foi {número} ')"
      ],
      "execution_count": null,
      "outputs": [
        {
          "name": "stdout",
          "output_type": "stream",
          "text": [
            "Digite um número: 2569\n",
            "O número informado foi 2569 \n"
          ]
        }
      ]
    },
    {
      "cell_type": "markdown",
      "metadata": {
        "id": "7LUbRLZBJutY"
      },
      "source": [
        "**Exercício 3** Faça um Programa que peça dois números e imprima a soma."
      ]
    },
    {
      "cell_type": "code",
      "metadata": {
        "colab": {
          "base_uri": "https://localhost:8080/"
        },
        "id": "nyqiseNSJ4Qy",
        "outputId": "09ad69f7-5d5c-4bca-c6e9-b3782c7491e1"
      },
      "source": [
        "número_1 = int(input('Digite um número: ')) \n",
        "número_2 = int(input('Digite outro número: '))\n",
        "soma = número_1 + número_2\n",
        "print (f'A soma dos dois números é: {soma}' )"
      ],
      "execution_count": null,
      "outputs": [
        {
          "name": "stdout",
          "output_type": "stream",
          "text": [
            "Digite um número: 12\n",
            "Digite outro número: 15\n",
            "A soma dos dois números é: 27\n"
          ]
        }
      ]
    },
    {
      "cell_type": "markdown",
      "metadata": {
        "id": "wDdAoq-kPb6m"
      },
      "source": [
        "### DESAFIO ####\n"
      ]
    },
    {
      "cell_type": "markdown",
      "metadata": {
        "id": "l2X6flvEPvSE"
      },
      "source": [
        "**Exercicio 17:** Faça um Programa para uma loja de tintas. O programa deverá pedir o tamanho em metros quadrados da área a ser pintada. Considere que a cobertura da tinta é de 1 litro para cada 6 metros quadrados e que a tinta é vendida em latas de 18 litros, que custam R$ 80,00 ou em galões de 3,6 litros, que custam R$ 25,00.\n",
        "Informe ao usuário as quantidades de tinta a serem compradas e os respectivos preços em 3 situações:\n",
        "\n",
        "-Comprar apenas latas de 18 litros;\n",
        "\n",
        "-Comprar apenas galões de 3,6 litros;\n",
        "\n",
        "-Misturar latas e galões, de forma que o desperdício de tinta seja menor.\n",
        "\n",
        "Obs.: Acrescente 10% de folga e sempre arredonde os valores para cima, isto é, considere latas cheias."
      ]
    },
    {
      "cell_type": "code",
      "metadata": {
        "colab": {
          "base_uri": "https://localhost:8080/"
        },
        "id": "AXvc1mhhQGur",
        "outputId": "c4a98867-dbe3-40ba-9850-2444030e9f1e"
      },
      "source": [
        "import math # Pesquisar\n",
        "\n",
        "area_a_ser_pintada = int(input('Digite a área em m2 a ser pitada: ')) #area em metros quadrados\n",
        "area_com_folga = area_a_ser_pintada * 1.1 # (10% de folga)\n",
        "litros_por_metro = 6 # (1litro para 6 metros)\n",
        "litros_a_serem_usados = area_com_folga / litros_por_metro\n",
        "litros_por_lata = 18\n",
        "numero_de_latas = math.ceil(litros_a_serem_usados / litros_por_lata) #math.ceil -> ARRENDONDA O NUMERO PARA CIMA\n",
        "valor_com_apenas_latas = numero_de_latas * 80\n",
        "print (f'Você deverá usar {numero_de_latas} latas de 18 litros, no valor de R$ {valor_com_apenas_latas}')\n",
        "\n",
        "litros_por_galao = 3.6\n",
        "numero_de_galoes = math.ceil(litros_a_serem_usados / litros_por_galao)\n",
        "valor_com_apenas_galoes = numero_de_galoes * 25\n",
        "print (f'Você deverá usar {numero_de_galoes} galões de 3.6 litros, no valor de R$ {valor_com_apenas_galoes}')\n",
        "\n",
        "#COMPRA OTIMIZADA DE TINTAS\n",
        "\n",
        "numero_de_latas = math.floor(litros_a_serem_usados / litros_por_lata) # math.floor -> ARRENDONDA O NUMERO PARA BAIXO\n",
        "valor_de_latas = numero_de_latas * 80\n",
        "litros_faltantes = litros_a_serem_usados % litros_por_lata\n",
        "numero_de_galoes = math.ceil(litros_faltantes / litros_por_galao)\n",
        "valor_com_galoes = numero_de_galoes * 25\n",
        "\n",
        "valor_total = valor_de_latas + valor_com_galoes \n",
        "\n",
        "print (f'Você deverá usar {numero_de_latas} latas de 18 litros mais {numero_de_galoes} galões de 3.6 litros, no valor de R$ {valor_total}')\n"
      ],
      "execution_count": null,
      "outputs": [
        {
          "name": "stdout",
          "output_type": "stream",
          "text": [
            "Digite a área em m2 a ser pitada: 153\n",
            "Você deverá usar 2 latas de 18 litros, no valor de R$ 160\n",
            "Você deverá usar 8 galões de 3.6 litros, no valor de R$ 200\n",
            "Você deverá usar 1 latas de 18 litros mais 3 galões de 3.6 litros, no valor de R$ 155\n"
          ]
        }
      ]
    },
    {
      "cell_type": "markdown",
      "metadata": {
        "id": "FiV9qcEq6Vvn"
      },
      "source": [
        "### DESAFIO 2   [EstruturaDeDecisao](https://wiki.python.org.br/EstruturaDeDecisao)"
      ]
    },
    {
      "cell_type": "markdown",
      "metadata": {
        "id": "mLocQ8y06ai7"
      },
      "source": [
        "**Exercício 5:** Faça um programa para a leitura de duas notas parciais de um aluno. O programa deve calcular a média alcançada por aluno e apresentar:\n",
        "\n",
        "A mensagem \"Aprovado\", se a média alcançada for maior ou igual a sete;\n",
        "A mensagem \"Reprovado\", se a média for menor do que sete;\n",
        "A mensagem \"Aprovado com Distinção\", se a média for igual a dez.\n"
      ]
    },
    {
      "cell_type": "code",
      "metadata": {
        "colab": {
          "base_uri": "https://localhost:8080/"
        },
        "id": "UYwsK3PH7IGu",
        "outputId": "32664f51-64e1-4636-ece7-8bc477a8b1fd"
      },
      "source": [
        "nota_1 = float(input('Digite a primeira nota: ')) #float-> numero real (1.5 , 0.5, 51.2)\n",
        "nota_2 = float(input('Digite a segunda nota: '))\n",
        "media = (nota_1 + nota_2) / 2\n",
        "print (f'Sua média foi: {media}')\n",
        "if media >= 10:\n",
        "  print ('Aprovado com Distinção')\n",
        "elif media >= 7:\n",
        "  print ('Aprovado')\n",
        "else:\n",
        "  print ('Reprovado')    "
      ],
      "execution_count": null,
      "outputs": [
        {
          "name": "stdout",
          "output_type": "stream",
          "text": [
            "Digite a primeira nota: 5.7\n",
            "Digite a segunda nota: 4.3\n",
            "Sua média foi: 5.0\n",
            "Reprovado\n"
          ]
        }
      ]
    },
    {
      "cell_type": "markdown",
      "metadata": {
        "id": "O-r38PPX-JHV"
      },
      "source": [
        "**Exercício 19**: Faça um Programa que leia um número inteiro menor que 1000 e imprima a quantidade de centenas, dezenas e unidades do mesmo.\n",
        "\n",
        "Observando os termos no plural a colocação do \"e\", da vírgula entre outros. Exemplo:\n",
        "*   326 = 3 centenas, 2 dezenas e 6 unidades\n",
        "*   12 = 1 dezena e 2 unidades Testar com: 326, 300, 100, 320, 310,305, 301, 101, 311, 111, 25, 20, 10, 21, 11, 1, 7 e 16\n",
        "\n"
      ]
    },
    {
      "cell_type": "code",
      "metadata": {
        "colab": {
          "base_uri": "https://localhost:8080/"
        },
        "id": "i7-BIa3k-_gH",
        "outputId": "a12a7361-3057-4fc3-b4fe-6d784256f75d"
      },
      "source": [
        "numero = int(input('Digite um némero para ser lido (n°inteiro de 0 a 999): '))\n",
        "centenas_str = dezenas_str = unidades_str = ''\n",
        "\n",
        "centenas_int, numero = divmod(numero, 100)\n",
        "\n",
        "partes_numericas=0\n",
        "\n",
        "if centenas_int == 1:\n",
        "  centenas_str = '1 centena'\n",
        "  partes_numericas += 1\n",
        "elif centenas_int > 1:\n",
        "  centenas_str = f'{centenas_int} centenas' \n",
        "  partes_numericas += 1\n",
        "\n",
        "dezenas_int, numero = divmod(numero, 10)\n",
        "\n",
        "if dezenas_int == 1:\n",
        "  dezenas_str = '1 dezena'\n",
        "elif dezenas_int > 1:\n",
        "  dezenas_str = f'{dezenas_int} dezenas'  \n",
        "  partes_numericas += 1\n",
        "\n",
        "if numero == 1:\n",
        "  unidades_str = '1 unidade'\n",
        "  partes_numericas += 1\n",
        "elif numero > 1:\n",
        "  unidades_str = f'{numero} unidades'     \n",
        "  partes_numericas += 1\n",
        "\n",
        "if partes_numericas  == 0:\n",
        "  print('numero 0 não possui centenas, dezenas ou unidades')\n",
        "elif partes_numericas  == 1:\n",
        "  print(centenas_str + dezenas_str + unidades_str)  \n",
        "elif partes_numericas  == 3:\n",
        "  print(f' {centenas_str}, {dezenas_str} e {unidades_str}')   \n",
        "elif partes_numericas == 2:\n",
        "  if centenas_str != '':  \n",
        "    segunda_parte = dezenas_str + unidades_str\n",
        "    print (f'{centenas_str} e {segunda_parte}') \n",
        "  else:\n",
        "    print(f'{dezenas_str} e {unidades_str}')  \n",
        "\n"
      ],
      "execution_count": null,
      "outputs": [
        {
          "name": "stdout",
          "output_type": "stream",
          "text": [
            "Digite um némero para ser lido (n°inteiro de 0 a 999): 356\n",
            " 3 centenas, 5 dezenas e 6 unidades\n"
          ]
        }
      ]
    },
    {
      "cell_type": "markdown",
      "metadata": {
        "id": "Xy8NeYSXJPCb"
      },
      "source": [
        "**Exercício 21**: Faça um Programa para um caixa eletrônico. O programa deverá perguntar ao usuário a valor do saque e depois informar quantas notas de cada valor serão fornecidas. As notas disponíveis serão as de 1, 5, 10, 50 e 100 reais.\n",
        "O valor mínimo é de 10 reais e o máximo de 600 reais. O programa não deve se preocupar com a quantidade de notas existentes na máquina.\n",
        "\n",
        "\n",
        "a.   Exemplo 1: Para sacar a quantia de 256 reais, o programa fornece duas notas de 100, uma nota de 50, uma nota de 5 e uma nota de 1;\n",
        "\n",
        "b.   Exemplo 2: Para sacar a quantia de 399 reais, o programa fornece três notas de 100, uma nota de 50, quatro notas de 10, uma nota de 5 e quatro notas de 1.\n",
        "\n"
      ]
    },
    {
      "cell_type": "code",
      "metadata": {
        "colab": {
          "base_uri": "https://localhost:8080/"
        },
        "id": "fBNo0xKCKoEv",
        "outputId": "0481ecf3-e423-444f-9d18-daf05b7e7724"
      },
      "source": [
        "saque = int(input('Digite o valor de saque : '))\n",
        "\n",
        "\n",
        "notas_de_100 = notas_de_50 = notas_de_10 = notas_de_5 = notas_de_1 = 0\n",
        "\n",
        "notas_de_100, saque = divmod(saque, 100)\n",
        "\n",
        "notas_de_50, saque = divmod(saque, 50)\n",
        "\n",
        "notas_de_10, saque = divmod(saque, 10)\n",
        "\n",
        "notas_de_5, saque = divmod(saque, 5)\n",
        "\n",
        "notas_de_1, saque = divmod(saque, 1)\n",
        "\n",
        "if notas_de_100 > 0:\n",
        "  print(f'{notas_de_100} nota(s) de 100')\n",
        "\n",
        "if notas_de_50 > 0:\n",
        "  print(f'{notas_de_50} nota(s) de 50')\n",
        "\n",
        "if notas_de_10 > 0:\n",
        "  print(f'{notas_de_10} nota(s) de 10')\n",
        "\n",
        "if notas_de_5 > 0:\n",
        "  print(f'{notas_de_5} nota(s) de 5')\n",
        "\n",
        "if notas_de_1 > 0:\n",
        "  print(f'{notas_de_1} nota(s) de 1')    "
      ],
      "execution_count": null,
      "outputs": [
        {
          "name": "stdout",
          "output_type": "stream",
          "text": [
            "Digite o valor de saque : 156\n",
            "1 nota(s) de 100\n",
            "1 nota(s) de 50\n",
            "1 nota(s) de 5\n",
            "1 nota(s) de 1\n"
          ]
        }
      ]
    },
    {
      "cell_type": "markdown",
      "metadata": {
        "id": "EdcIMUmNVx34"
      },
      "source": [
        "###Desafio 3 - [Estrutura de Repetição](https://wiki.python.org.br/EstruturaDeRepeticao)"
      ]
    },
    {
      "cell_type": "markdown",
      "metadata": {
        "id": "v88LB2RpIJ4A"
      },
      "source": [
        "**Ecercício 1** - Faça um programa que peça uma nota, entre zero e dez. Mostre uma mensagem caso o valor seja inválido e continue pedindo até que o usuário informe um valor válido. (#WHILE) (#BREAK)"
      ]
    },
    {
      "cell_type": "code",
      "metadata": {
        "colab": {
          "base_uri": "https://localhost:8080/"
        },
        "id": "HxfUqknqIoqd",
        "outputId": "fa323a1a-86b9-49bb-9396-3e3beacd6989"
      },
      "source": [
        " while True:\n",
        "  try:\n",
        "    numero = int(input('Digite um valor de 0 a 10: '))\n",
        "  except ValueError:\n",
        "    print ('Deve ser fornecido um valor inteiro: ')\n",
        "  else:\n",
        "    if 0<= numero <=10:\n",
        "      print(f'O numero informado foi {numero}')  \n",
        "      break\n",
        "    else:\n",
        "      print('Digite um número de 0 a 10: ')\n",
        "\n"
      ],
      "execution_count": null,
      "outputs": [
        {
          "name": "stdout",
          "output_type": "stream",
          "text": [
            "Digite um valor de 0 a 10: jh\n",
            "Deve ser fornecido um valor inteiro: \n",
            "Digite um valor de 0 a 10: 25\n",
            "Digite um número de 0 a 10: \n",
            "Digite um valor de 0 a 10: 5\n",
            " O numero informado foi 5\n"
          ]
        }
      ]
    },
    {
      "cell_type": "markdown",
      "metadata": {
        "id": "M9s1Z6-FCp44"
      },
      "source": [
        "**Exercício 4:** Supondo que a população de um país A seja da ordem de 80000 habitantes com uma taxa anual de crescimento de 3% e que a população de B seja 200000 habitantes com uma taxa de crescimento de 1.5%.\n",
        "\n",
        "Faça um programa que calcule e escreva o número de anos necessários para que a população do país A ultrapasse ou iguale a população do país B, mantidas as taxas de crescimento."
      ]
    },
    {
      "cell_type": "code",
      "metadata": {
        "colab": {
          "base_uri": "https://localhost:8080/"
        },
        "id": "rrGads7oC5N-",
        "outputId": "a326439a-51fb-4361-c8ce-3b9b710e1f6c"
      },
      "source": [
        "populacao_a = 80_000\n",
        "populacao_b = 200_000\n",
        "taxa_de_crescimento_de_a = 1.03\n",
        "taxa_de_crescimento_de_b = 1.015\n",
        "anos = 0\n",
        "\n",
        "while populacao_a < populacao_b:\n",
        "  #print(f'###### Populações no ano {anos}')\n",
        "  #print(f'População de A: {populacao_a}')\n",
        "  #print(f'População de B: {populacao_b}')\n",
        "  anos += 1 \n",
        "  populacao_a = int(populacao_a * taxa_de_crescimento_de_a)\n",
        "  populacao_b *= taxa_de_crescimento_de_b\n",
        "  populacao_b = int(populacao_b)\n",
        "\n",
        "print(f'###### Populações no ano {anos}')\n",
        "print(f'População de A: {populacao_a}')\n",
        "print(f'População de B: {populacao_b}')"
      ],
      "execution_count": null,
      "outputs": [
        {
          "name": "stdout",
          "output_type": "stream",
          "text": [
            "###### Populações no ano 63\n",
            "População de A: 514954\n",
            "População de B: 510908\n"
          ]
        }
      ]
    },
    {
      "cell_type": "markdown",
      "metadata": {
        "id": "Gvb3IwhHQpAy"
      },
      "source": [
        "**Exercício 7:** Faça um programa que leia 5 números e informe o maior número."
      ]
    },
    {
      "cell_type": "code",
      "metadata": {
        "colab": {
          "base_uri": "https://localhost:8080/"
        },
        "id": "n_3dmiWfR1-5",
        "outputId": "8693249c-3dcd-45d5-e108-8a0d623865cf"
      },
      "source": [
        "maximo = float(input('Digite um número: '))\n",
        "\n",
        "for _ in range (4):\n",
        "  maximo = max(maximo, float(input('Digite um número: ')))\n",
        "  print(f'Número maximo encontrado até agora é: {maximo}')"
      ],
      "execution_count": null,
      "outputs": [
        {
          "name": "stdout",
          "output_type": "stream",
          "text": [
            "Digite um número: 55\n",
            "Digite um número: 54\n",
            "Número maximo encontrado até agora é: 55.0\n",
            "Digite um número: 47\n",
            "Número maximo encontrado até agora é: 55.0\n",
            "Digite um número: 15487\n",
            "Número maximo encontrado até agora é: 15487.0\n",
            "Digite um número: 548\n",
            "Número maximo encontrado até agora é: 15487.0\n"
          ]
        }
      ]
    },
    {
      "cell_type": "markdown",
      "metadata": {
        "id": "ye-F-ZxjeCjs"
      },
      "source": [
        "**Exercício 8:** Faça um programa que leia 5 números e informe a soma e a média dos números."
      ]
    },
    {
      "cell_type": "code",
      "metadata": {
        "colab": {
          "base_uri": "https://localhost:8080/"
        },
        "id": "Nk8EwMf5eNn7",
        "outputId": "74734ccc-f33a-4311-a88a-e5eecc7d1690"
      },
      "source": [
        "soma = float(input('Digite um número: '))\n",
        "\n",
        "for n in range (2, 6):\n",
        "  soma += float(input('Digite um número: '))\n",
        "  media = soma / n\n",
        "  print(f'A soma dos números é: {soma} / A media dos números é: {media}')"
      ],
      "execution_count": null,
      "outputs": [
        {
          "name": "stdout",
          "output_type": "stream",
          "text": [
            "Digite um número: 5\n",
            "Digite um número: 5\n",
            "A soma dos números é: 10.0 / A media dos números é: 5.0\n",
            "Digite um número: 47\n",
            "A soma dos números é: 57.0 / A media dos números é: 19.0\n",
            "Digite um número: 5\n",
            "A soma dos números é: 62.0 / A media dos números é: 15.5\n",
            "Digite um número: 12\n",
            "A soma dos números é: 74.0 / A media dos números é: 14.8\n"
          ]
        }
      ]
    },
    {
      "cell_type": "markdown",
      "metadata": {
        "id": "3uAsDEszvBzL"
      },
      "source": [
        "## [Exercício Listas](https://wiki.python.org.br/ExerciciosListas)"
      ]
    },
    {
      "cell_type": "code",
      "metadata": {
        "colab": {
          "base_uri": "https://localhost:8080/"
        },
        "id": "8-DT5aQxv0cQ",
        "outputId": "bc019519-6319-4a21-fcab-b2f17cc97ef4"
      },
      "source": [
        "lista = [1, 2, 'Luan', []]\n",
        "lista.append(10)\n",
        "print(lista)"
      ],
      "execution_count": null,
      "outputs": [
        {
          "name": "stdout",
          "output_type": "stream",
          "text": [
            "[1, 2, 'Luan', [], 10]\n"
          ]
        }
      ]
    },
    {
      "cell_type": "markdown",
      "metadata": {
        "id": "fcZFrlSOvPnF"
      },
      "source": [
        "**Exercício 1**. Faça um Programa que leia um vetor de 5 números inteiros e mostre-os."
      ]
    },
    {
      "cell_type": "code",
      "metadata": {
        "colab": {
          "base_uri": "https://localhost:8080/"
        },
        "id": "xIxd6QbuvaPR",
        "outputId": "f8cac9a5-f00f-498a-d45c-a502adeb53fb"
      },
      "source": [
        "lista = []\n",
        "for _ in range (5):\n",
        "  numero = float(input('Digite um número: '))\n",
        "  lista.append(numero)\n",
        "print(lista)  "
      ],
      "execution_count": null,
      "outputs": [
        {
          "name": "stdout",
          "output_type": "stream",
          "text": [
            "Digite um número: 1\n",
            "Digite um número: 2\n",
            "Digite um número: 3\n",
            "Digite um número: 4\n",
            "Digite um número: 5\n",
            "[1.0, 2.0, 3.0, 4.0, 5.0]\n"
          ]
        }
      ]
    },
    {
      "cell_type": "markdown",
      "metadata": {
        "id": "-HJCHy5qyDOE"
      },
      "source": [
        "**Exercício 2.** Faça um Programa que leia um vetor de 10 números reais e mostre-os na ordem inversa."
      ]
    },
    {
      "cell_type": "code",
      "metadata": {
        "colab": {
          "base_uri": "https://localhost:8080/"
        },
        "id": "ckB3zTzByMMV",
        "outputId": "cc14339f-b0a2-4730-d31e-944260c06643"
      },
      "source": [
        "lista = []\n",
        "for _ in range (10):\n",
        "  numero= float(input('Digite um número: '))\n",
        "  lista.append(numero)\n",
        "\n",
        "lista.reverse()\n",
        "print(lista)  "
      ],
      "execution_count": null,
      "outputs": [
        {
          "name": "stdout",
          "output_type": "stream",
          "text": [
            "Digite um número: 1.1\n",
            "Digite um número: 2.2\n",
            "Digite um número: 3.3\n",
            "Digite um número: 4.4\n",
            "Digite um número: 5.5\n",
            "Digite um número: 6.6\n",
            "Digite um número: 7.7\n",
            "Digite um número: 8.8\n",
            "Digite um número: 9.9\n",
            "Digite um número: 10.10\n",
            "[10.1, 9.9, 8.8, 7.7, 6.6, 5.5, 4.4, 3.3, 2.2, 1.1]\n"
          ]
        }
      ]
    },
    {
      "cell_type": "markdown",
      "metadata": {
        "id": "bzRJ9f2P2qbf"
      },
      "source": [
        "**Exercício 15.**  Faça um programa que leia um número indeterminado de valores, correspondentes a notas, encerrando a entrada de dados quando for informado um valor igual a -1 (que não deve ser armazenado). Após esta entrada de dados, faça:\n",
        "\n",
        "\n",
        "*   Mostre a quantidade de valores que foram lidos;\n",
        "*   Exiba todos os valores na ordem em que foram informados, um ao lado do outro;\n",
        "\n",
        "*   Exiba todos os valores na ordem inversa à que foram informados, um abaixo do outro;\n",
        "*   Calcule e mostre a soma dos valores;\n",
        "*   Calcule e mostre a media dos valores;\n",
        "*   Calcule e mostre a quantidade de valores acima da média calculada;\n",
        "\n",
        "*   Calcule e mostre a quantidade de valores abaixo de sete;\n",
        "*   Encerre o programa com uma mensagem;"
      ]
    },
    {
      "cell_type": "code",
      "metadata": {
        "colab": {
          "base_uri": "https://localhost:8080/"
        },
        "id": "K9XjJmd8f8rO",
        "outputId": "d19a70c5-b330-4221-f96a-e9f367390415"
      },
      "source": [
        "notas =[]\n",
        "\n",
        "while True:\n",
        "  entrada = input('Digite um número: ')\n",
        "  if entrada == '-1':\n",
        "    break\n",
        "  notas.append(float(entrada))\n",
        "\n",
        "\n",
        "tamanho = len(notas)\n",
        "print(f'Foram lidas {tamanho} notas')\n",
        "\n",
        "print(' '.join([str(nota) for nota in notas]))\n",
        "\n",
        "notas.reverse()\n",
        "for nota in notas:\n",
        "  print(nota)\n",
        "\n",
        "soma = sum(notas)  \n",
        "print(f'A soma das notas é {soma}')\n",
        "\n",
        "media = soma / tamanho\n",
        "print(f'A média das notas é: {media}')\n",
        "\n",
        "print('Notas acima da média: ')\n",
        "print(' '.join ([str(nota) for nota in notas if nota > media]))\n",
        "\n",
        "print('Notas abaixo de 7: ')\n",
        "print(\" \".join([str(nota) for nota in notas if nota < 7]))\n",
        "\n",
        "print('Encerrado programa de estatística de notas')"
      ],
      "execution_count": null,
      "outputs": [
        {
          "name": "stdout",
          "output_type": "stream",
          "text": [
            "Digite um número: 5\n",
            "Digite um número: 10\n",
            "Digite um número: 15\n",
            "Digite um número: 20\n",
            "Digite um número: -1\n",
            "Foram lidas 4 notas\n",
            "5.0 10.0 15.0 20.0\n",
            "20.0\n",
            "15.0\n",
            "10.0\n",
            "5.0\n",
            "A soma das notas é 50.0\n",
            "A média das notas é: 12.5\n",
            "Notas acima da média: \n",
            "20.0 15.0\n",
            "Notas abaixo de 7: \n",
            "5.0\n",
            "Encerrado programa de estatística de notas\n"
          ]
        }
      ]
    },
    {
      "cell_type": "markdown",
      "metadata": {
        "id": "tyPP3hiawNX5"
      },
      "source": [
        "Exercício 16. Utilize uma lista para resolver o problema a seguir. Uma empresa paga seus vendedores com base em comissões. O vendedor recebe 200reais por semana mais 9 por cento de suas vendas brutas daquela semana. Por exemplo, um vendedor que teve vendas brutas de 3000reais em uma semana recebe 200reais mais 9 por cento de 3000reais, ou seja, um total de $470. Escreva um programa (usando um array de contadores) que determine quantos vendedores receberam salários nos seguintes intervalos de valores:\n",
        "\n",
        "$$200 - $299\n",
        "\n",
        "$$300 - $399\n",
        "\n",
        "$$400 - $499\n",
        "\n",
        "$$500 - $599\n",
        "\n",
        "$$600 - $699\n",
        "\n",
        "$$700 - $799\n",
        "\n",
        "$$800 - $899\n",
        "\n",
        "$$900 - $999\n",
        "\n",
        "$$1000 em diante\n",
        "\n",
        "**Desafio: Crie ma fórmula para chegar na posição da lista a partir do salário, sem fazer vários ifs aninhados.**"
      ]
    },
    {
      "cell_type": "code",
      "metadata": {
        "colab": {
          "base_uri": "https://localhost:8080/"
        },
        "id": "M19gfSLew2Dw",
        "outputId": "b944ab4e-ad2a-47ed-81c5-7849e55c796d"
      },
      "source": [
        "salarios = [200, 250, 320, 413, 516, 680, 791, 877, 999, 1000, 2000, 3000]\n",
        "contagem_de_faixa_salarial = [0] * 9\n",
        "for salario in salarios:\n",
        "  indice = salario // 100 -2\n",
        "  indice_maximo = len(contagem_de_faixa_salarial) - 1\n",
        "  indice = min(indice, indice_maximo)\n",
        "  contagem_de_faixa_salarial [indice] +=1\n",
        "\n",
        "\n",
        "print(contagem_de_faixa_salarial)"
      ],
      "execution_count": null,
      "outputs": [
        {
          "name": "stdout",
          "output_type": "stream",
          "text": [
            "[2, 1, 1, 1, 1, 1, 1, 1, 3]\n"
          ]
        }
      ]
    },
    {
      "cell_type": "markdown",
      "metadata": {
        "id": "BgOmUsCeSuju"
      },
      "source": [
        "##[Exercícios Funções ](https://wiki.python.org.br/ExerciciosFuncoes)"
      ]
    },
    {
      "cell_type": "markdown",
      "metadata": {
        "id": "ejGZ3sg4coLM"
      },
      "source": [
        "**Exercício 1.**Faça um programa para imprimir:    \n",
        "![image.png](data:image/png;base64,iVBORw0KGgoAAAANSUhEUgAAAOkAAABcCAYAAACLMJIlAAAF9ElEQVR4Ae2dAW6jMBBFeydOVU5icRF6kIhLRMoZuIFXhoCdlKa77dj+Xt5KVbtCiu2Z//wHB5u3eZ49P8QADehq4I3k6CaH3JCboAEgpZKgkhLXgCGkk3dd57vO+Ul80DgUDtWSBswgnYbej9fZTwOQtiQA+qo/YZlBuiUbSPWTvuWK323kCkgpzbknFdcAkIonCLdrw+1y5glIgRQnFdcAkIonKOcMzWe34dJmkE5D+Pol/WGVFwjagEA9T2aQqg+U/gFMqxoAUspd7knFNQCk4glqdfan33aVC5ACKU4qrgEgFU8QjmTnSK3GEkiBFCcV1wCQiieo1dmffttVAEAKpDipuAaAVDxBOJKdI7UaSyAFUpxUXAN2kF5H32+PBb6P/lZg4LePfn8Usf+4IbYCMW/VjVrutxGkNz++J8/qXpzvhikvNGFSSNoIzw67C6VRy2Kk78f6NYL0+cMn7xKAigT/4oAUJ81rDJXimwXSUIaWdbUnJ68UzCKTEWP7L0F8pR1zSJf7xKIuGgCl1H2VZK49V3pt/d8U0mVPaVFA12NEy7p2WwkG0PbzZQTp6mZxhfXmxyHzCu+ymrweI7oI8Tp6xwrv6UrBM0xCNpCmX78U+hom/fplOxEiThLtz55nEB9j/Dud2kDKYgYOhgayaQBIEVc2ceGUf+eU38UJSIEUSMU1AKTiCfpuluW6jVspxxFIgRQnFdcAkIonSHmGp29lXBxIgRQnFdcAkIonCLcq41bKcQZSIMVJxTUApOIJUp7h6VsZlzeFNL60KdkAnhWC9QH75bHAYg/212izjBiATjPOZpAGQPdnZ59OTciT/ABLfMC+zB7WGm1qCidPThnrUVzNIH348CKQPia0DKT123yIc9Yq5XGstFsvHraQ7rthSpW7s993wxQrd+u0CST1IKkde1tIt5kdJ2XFdNMCv3+thTyQzrOfhnJuus50FQ4/m2u0eV5Hqe1otdo3gjQsqCRQBifNffbu07GhoezdF65yzd412sw1Fj731w5XClojSGc/7/ejne9SYDOKYb8fDadBFLonrdFmKTHQjmaVYgdpRhgRj6Z4yEuZvAApk0szZd9ZJwUgBVIgFdcAkIon6KzuwbhjKQ2kQIqTimsASMUThKNERzlrLIAUSHFScQ0AqXiCzuoejDtWEEAKpDipuAaAVDxBOEp0lLPGAkiBFCcV1wCQiiforO7BuGMFAaRAipOKawBIxROEo0RHOWssgBRIcVJxDQCpeILO6h6MO1YQppBuG6LdJTawBzucatAlx34+wHE/y/bwNIebH9+/2kj+6tpBHx7a5PqeG+IiXU0AKQKVFigTyexNISWguDMasNcAkOKkOKm4BoBUPEE4k70ztRZTIAVSnFRcA0AqnqDWZn36a+/8QAqkOKm4BoBUPEE4k70ztRZTIAVSnFRcA0AqnqDWZn36a+/8QAqkOKm4BoBUPEE4k70ztRZTIAVSnFRcAyaQrrtfnHdD2K0Sfno/XnPOgPfdL4Pzbmmv893hDhrLPtRoc90d1A/O99s4c7/icdmt1Hs39Pdcdv5wV5OhsMvrx1IX6WflyZcJpKF8mIZkG1p4V2luMYW3bCeTQUh0bjHNNdpc3vsaX9A8DbknwNkv0Oz5m7zLPgHW0E8Kl+HfGfJlCGkU0iLm7ImdvNuFNPv54vK/6TtAWrrN6+jdx20vSUtMRrcPl1RCoYJIc2so6MSNpyFto8zEkOXeNEO+gDQRyvdJA9LvY/QziIH067gBKZDuLr0B+H856evTO9b74eP77lfXtlh9+q3qpNtg1sWbLSid79LS8J9g+HpWWYMS2+hDKbjcB6yLVvnuS2u0eT9WpruL6H4ETdaFub2NtfwMaw3LYmDG25e8+tnylpbTUV9b20e6eXXtE5yLvvPky8xJjzsdg8F1YoEGfqYBIDV1+J8lAfESt1caAFIg/XRP+kowXCs/oQApkAKpuAaAVDxBOFd551KLOZACKU4qroE3zz8iQASkIwCk0umhc0TAeyBFBURAPAJ/AFg4wA3d7S3HAAAAAElFTkSuQmCC)\n",
        "\n",
        "para um n informado pelo usuário. Use uma função que receba um valor n inteiro e imprima até a n-ésima linha."
      ]
    },
    {
      "cell_type": "code",
      "metadata": {
        "colab": {
          "base_uri": "https://localhost:8080/"
        },
        "id": "IS83Z-WpdEDJ",
        "outputId": "9d264e99-240f-42a0-f31c-53e5efffdda9"
      },
      "source": [
        "def imprimir_triangulo_de_numeros(n: int):\n",
        "  for i in range(1, n+1):\n",
        "    for _ in range (i):\n",
        "      print(i, end= '   ')\n",
        "    print('')  \n",
        "\n",
        "print('Triangulo com 1')\n",
        "imprimir_triangulo_de_numeros(1)\n",
        "print('Triangulo com 2')\n",
        "imprimir_triangulo_de_numeros(2)\n",
        "print('Triangulo com 3')\n",
        "imprimir_triangulo_de_numeros(3)"
      ],
      "execution_count": null,
      "outputs": [
        {
          "name": "stdout",
          "output_type": "stream",
          "text": [
            "Triangulo com 1\n",
            "1   \n",
            "Triangulo com 2\n",
            "1   \n",
            "2   2   \n",
            "Triangulo com 3\n",
            "1   \n",
            "2   2   \n",
            "3   3   3   \n"
          ]
        }
      ]
    },
    {
      "cell_type": "markdown",
      "metadata": {
        "id": "Gnk_t7cLbaiQ"
      },
      "source": [
        "**Exercício 2.** Faça um programa para imprimir:\n",
        "\n",
        "![image.png](data:image/png;base64,iVBORw0KGgoAAAANSUhEUgAAAMEAAABhCAYAAABvXsVyAAAET0lEQVR4Ae2dAW6jMBBFcyefqpwE5SLkIBGXiJQz5AZeucQkpXjVbNd8k/8qRShthfF4/ryx5cGHyA8WMLfAwbz/dB8LRESAE9hbABHYuwAGQAT4gL0FDrfbLfLBBs4+gAgIAvZBEBEgAkTgjEH6ThqYfEBEgjH2IcQQ+jgSie0jsToYSUQwHrs4XG5xPCICtQPQvowEE4YRAelICyKUkCB3HBEgguwLyisiYE5iPydBBIgAESgxRDpEOqT0v9y2hATjMS2PPn9YJcoDwnX7wCARAQO9/UBj87LNEQFzAuYERIhyhMA2HraBBJAAEhDtPKId41weZ0gACSABEaIcIbCNh20gASSABEQ7j2jHOJfHGRJAAkigiRDbV5ZdT928VaM7Xe0HXjPu5WisfB4JCTavLLsMsTuOs+OnvUv9uc0BUTqDa9sSEWRjy3aRnntEQBo4B0VDEVzj8MGu1RyIuNrVGCcBkArh+F9TYSMSTJNx5gJfHQBBuJAgTYzD9JqXz0G/DLFnhWjOid2FICHB1pVlz8ujuaKNZVKIkMUvEUFunCuO2IIPIAKWCu3TIkSACBBBCzjiGUiLlD4ACSABJFAqkLYhQAs+AAkgASRoQYk8A0RQ+gAkgASQQKlA2oYALfiAiAQulWW5nyGGp6KeFgaeZ3gEIIkIPCrLkgAem/bS/iV2sD4cryURSkSQDeBUWYYI2hRA8kVDEWxbWTbvYCUdanYCbiYCXWUZJIAEq1Fg23RIXVk2xh4arPpBTo9VVw8SKCrLzv2XFaFEAgp52qSBRAQulWXzfCCdzwYFmqSAfGKswh/tthmRVeMiIYGqs7SL86/5ACJg71Czacqaw9b4HSJABIighrK4J2nHnnwAEkACSLAnxfKsEKaGD0ACSAAJaiiLexKx9+QDkAASQII9KZZnhTA1fAASQAJIUENZ3JOIvScfgASQABLsSbE8K4Sp4QOQABJAghrK+sk9c8HJ6mtIUlVWCIVKrPu7fD6GeP3mwFMNcQhrR7T+7W9E2J+M2bv+j4wEiADhtSIqmQhaMQDPgRgRwbeUCqdwCwyIABEwMXZTPf2FdEsfgASQABIsVcF3IqWbD0ACSAAJ3FRPfyHd0gcgASSABEtV8J1I6eYDIhLks7zW9vjUccK8TaO8J6lGu7mfvJC3ZWFJRMCZZTUExz3/VWgSEeSH3faQjicnOfebH6KXSLS6Y/Zt5yQTBbtjH7v0avqGX09vKALOLMtBqPr183CUR8qbM4Dq7b4YWMxEwJllmzrgZYj96TqvPrVKQyMRTHjWpSSGZ5YhgqccvICnzeYEVmeW3VekXq68u8W8gvbfAgUiKIuAM8vKtvl9utKKCO7PEcK0IHAvmQ2hi8OlZv9fv7c0Hfr9gL/eYdrEZksfQASFVG1pKL6/r3gQASKYV29chY4IEAEicFU//X7f9ObVsYUEkAASRH6wgLkFDub9p/tYIP4BLvk6yxkjPHEAAAAASUVORK5CYII=)\n",
        "\n",
        "para um n informado pelo usuário. Use uma função que receba um valor n inteiro imprima até a n-ésima linha."
      ]
    },
    {
      "cell_type": "code",
      "metadata": {
        "colab": {
          "base_uri": "https://localhost:8080/"
        },
        "id": "isfNx7WYbSwG",
        "outputId": "9a227352-f87d-4797-fb4e-6e1472c7bedf"
      },
      "source": [
        "def imprimir_triangulo_de_numeros_crescentes(n: int):\n",
        "  for linha in range(1, n+1):\n",
        "    for coluna in range (1, linha +1):\n",
        "      print(coluna, end= '   ')\n",
        "    print('')  \n",
        "\n",
        "print('Triangulo com 1')\n",
        "imprimir_triangulo_de_numeros_crescentes (1)\n",
        "print('Triangulo com 2')\n",
        "imprimir_triangulo_de_numeros_crescentes(2)\n",
        "print('Triangulo com 3')\n",
        "imprimir_triangulo_de_numeros_crescentes(3)"
      ],
      "execution_count": null,
      "outputs": [
        {
          "name": "stdout",
          "output_type": "stream",
          "text": [
            "Triangulo com 1\n",
            "1   \n",
            "Triangulo com 2\n",
            "1   \n",
            "1   2   \n",
            "Triangulo com 3\n",
            "1   \n",
            "1   2   \n",
            "1   2   3   \n"
          ]
        }
      ]
    },
    {
      "cell_type": "markdown",
      "metadata": {
        "id": "aZOhFqHUDQhA"
      },
      "source": [
        "## [Exercícios com Strings](https://wiki.python.org.br/ExerciciosComStrings)"
      ]
    },
    {
      "cell_type": "markdown",
      "metadata": {
        "id": "YWOgljBdDgk-"
      },
      "source": [
        "**Exercício 1.** Tamanho de strings. Faça um programa que leia 2 strings e informe o conteúdo delas seguido do seu comprimento. Informe também se as duas strings possuem o mesmo comprimento e são iguais ou diferentes no conteúdo.\n",
        "\n",
        "![image.png](data:image/png;base64,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)"
      ]
    },
    {
      "cell_type": "code",
      "metadata": {
        "colab": {
          "base_uri": "https://localhost:8080/"
        },
        "id": "ND6jLzKYDe6t",
        "outputId": "052a8689-28ed-4043-873c-f28320679394"
      },
      "source": [
        "s1 = input('Digite uma string: ')\n",
        "s2 = input('Digite uma string: ')\n",
        "\n",
        "tamanho1 = len(s1)\n",
        "tamanho2 = len(s2)\n",
        "\n",
        "print(f'\"{s1}\": {tamanho1} caracteres')\n",
        "print(f'\"{s2}\": {tamanho2} caracteres')\n",
        "\n",
        "comparacao_de_tamanho = 'iguais'\n",
        "comparacao_de_conteudo = 'diferente'\n",
        "\n",
        "if s1==s2:\n",
        "  comparacao_de_tamanho = 'iguais'\n",
        "  comparacao_de_conteudo = 'igual'\n",
        "elif tamanho1 == tamanho2:\n",
        "  comparacao_de_tamanho = 'iguais'\n",
        "\n",
        "print (f'As duas strings são de tamanhos {comparacao_de_tamanho}')  \n",
        "print (f'As duas strings possuem conteudos {comparacao_de_conteudo}')  "
      ],
      "execution_count": null,
      "outputs": [
        {
          "name": "stdout",
          "output_type": "stream",
          "text": [
            "Digite uma string: luan\n",
            "Digite uma string: braz\n",
            "\"luan\": 4 caracteres\n",
            "\"braz\": 4 caracteres\n",
            "As duas strings são de tamanhos iguais\n",
            "As duas strings possuem conteudos diferente\n"
          ]
        }
      ]
    },
    {
      "cell_type": "markdown",
      "metadata": {
        "id": "dfrzMeWINcyF"
      },
      "source": [
        "**Exercício 2**.  Nome ao contrário em maiúsculas. Faça um programa que permita ao usuário digitar o seu nome e em seguida mostre o nome do usuário de trás para frente utilizando somente letras maiúsculas. Dica: lembre−se que ao informar o nome o usuário pode digitar letras maiúsculas ou minúsculas."
      ]
    },
    {
      "cell_type": "code",
      "metadata": {
        "colab": {
          "base_uri": "https://localhost:8080/"
        },
        "id": "rLOGzPioFM6R",
        "outputId": "3275774e-0a11-43bc-c991-20384b8318a9"
      },
      "source": [
        "nome = input('Digite um nome: ').upper()\n",
        "\n",
        "nome_invertido_por_letras = ' '.join(reversed(nome))\n",
        "\n",
        "print(nome.split())\n",
        "print(\"\\n\")\n",
        "\n",
        "nome_invertido_por_palavras = ' '.join(reversed(nome.split()))\n",
        "\n",
        "print(f'Nome com letras em maiúsculo: {nome}')\n",
        "print(f'Nome com letras em maiúsculo invertido por letras: {nome_invertido_por_letras}')\n",
        "print(f'Nome com letras em maiúsculo invertido por palavras: {nome_invertido_por_palavras}')"
      ],
      "execution_count": null,
      "outputs": [
        {
          "name": "stdout",
          "output_type": "stream",
          "text": [
            "Digite um nome: luan aparecido da silva braz\n",
            "['LUAN', 'APARECIDO', 'DA', 'SILVA', 'BRAZ']\n",
            "\n",
            "\n",
            "Nome com letras em maiúsculo: LUAN APARECIDO DA SILVA BRAZ\n",
            "Nome com letras em maiúsculo invertido por letras: Z A R B   A V L I S   A D   O D I C E R A P A   N A U L\n",
            "Nome com letras em maiúsculo invertido por palavras: BRAZ SILVA DA APARECIDO LUAN\n"
          ]
        }
      ]
    },
    {
      "cell_type": "markdown",
      "metadata": {
        "id": "O1Bhzj6UcDKa"
      },
      "source": [
        "**Exercício 11**. Jogo de Forca. Desenvolva um jogo da forca. O programa terá uma lista de palavras lidas de um arquivo texto e escolherá uma aleatoriamente. O jogador poderá errar 6 vezes antes de ser enforcado.\n",
        "\n",
        "![image.png](data:image/png;base64,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)"
      ]
    },
    {
      "cell_type": "code",
      "metadata": {
        "colab": {
          "base_uri": "https://localhost:8080/"
        },
        "id": "6aNkHKhQSq_e",
        "outputId": "a625ddbf-c8b3-4d84-c05a-e8be9beceb02"
      },
      "source": [
        "palavra = 'DevPro'.upper()\n",
        "\n",
        "print('Jogo da Forca')\n",
        "print('Descubra a palavra')\n",
        "\n",
        "print('A palavra é: ', end='')\n",
        "for letra in palavra:\n",
        "  print(f'_', end=' ')\n",
        "\n",
        "conjunto_letras_palavra = set(palavra)  \n",
        "conjunto_letras_digitadas = set()\n",
        "erros = 0\n",
        "\n",
        "while not conjunto_letras_palavra.issubset(conjunto_letras_digitadas) and erros < 7:\n",
        "  print()\n",
        "  print()\n",
        "  letra_digitada = input('Digite uma letra: ').upper()\n",
        "  conjunto_letras_digitadas.add(letra_digitada)\n",
        "  if letra_digitada in conjunto_letras_palavra:\n",
        "    print('A palavra é: ', end='')\n",
        "    for letra in palavra:\n",
        "      if letra in conjunto_letras_digitadas:\n",
        "        print(f'{letra}', end='')\n",
        "      else:\n",
        "        print('_ ', end='')\n",
        "\n",
        "  else:\n",
        "    erros += 1\n",
        "    print(f'-> Erro {erros} de 6. Tente de novo!')\n",
        "\n",
        "\n",
        "\n",
        "  print()        \n",
        "  print('Letras já digitadas: ', conjunto_letras_digitadas) \n",
        "\n",
        "if erros < 7:\n",
        "  print('Parabéns, você ganhou!')\n",
        "else:\n",
        "  print('Infelizmente você perdeu!')     \n",
        "\n",
        "\n"
      ],
      "execution_count": null,
      "outputs": [
        {
          "output_type": "stream",
          "name": "stdout",
          "text": [
            "Jogo da Forca\n",
            "Descubra a palavra\n",
            "A palavra é: _ _ _ _ _ _ \n",
            "\n",
            "Digite uma letra: d\n",
            "A palavra é: D_ _ _ _ _ \n",
            "Letras já digitadas:  {'D'}\n",
            "\n",
            "\n",
            "Digite uma letra: t\n",
            "-> Erro 1 de 6. Tente de novo!\n",
            "\n",
            "Letras já digitadas:  {'T', 'D'}\n",
            "\n",
            "\n",
            "Digite uma letra: r\n",
            "A palavra é: D_ _ _ R_ \n",
            "Letras já digitadas:  {'T', 'D', 'R'}\n",
            "\n",
            "\n",
            "Digite uma letra: e\n",
            "A palavra é: DE_ _ R_ \n",
            "Letras já digitadas:  {'T', 'E', 'D', 'R'}\n",
            "\n",
            "\n",
            "Digite uma letra: t\n",
            "-> Erro 2 de 6. Tente de novo!\n",
            "\n",
            "Letras já digitadas:  {'T', 'E', 'D', 'R'}\n",
            "\n",
            "\n",
            "Digite uma letra: z\n",
            "-> Erro 3 de 6. Tente de novo!\n",
            "\n",
            "Letras já digitadas:  {'R', 'E', 'D', 'Z', 'T'}\n",
            "\n",
            "\n",
            "Digite uma letra: o\n",
            "A palavra é: DE_ _ RO\n",
            "Letras já digitadas:  {'R', 'E', 'D', 'Z', 'T', 'O'}\n",
            "\n",
            "\n",
            "Digite uma letra: v\n",
            "A palavra é: DEV_ RO\n",
            "Letras já digitadas:  {'R', 'E', 'D', 'Z', 'V', 'T', 'O'}\n",
            "\n",
            "\n",
            "Digite uma letra: p\n",
            "A palavra é: DEVPRO\n",
            "Letras já digitadas:  {'R', 'E', 'P', 'D', 'Z', 'V', 'T', 'O'}\n",
            "Parabéns, você ganhou!\n"
          ]
        }
      ]
    },
    {
      "cell_type": "code",
      "metadata": {
        "colab": {
          "base_uri": "https://localhost:8080/"
        },
        "id": "e6gDZZ_39ziC",
        "outputId": "d0030b92-cf04-476d-cfb8-bb6167889d74"
      },
      "source": [
        "def contar_caracteres(s):\n",
        "    \"\"\"Função que conta os caracteres de uma string\n",
        "\n",
        "    Ex:\n",
        "\n",
        "    >>> contar_caracteres('luan')\n",
        "    a: 1\n",
        "    l: 1\n",
        "    n: 1\n",
        "    u: 1\n",
        "\n",
        " >>> contar_caracteres('banana')\n",
        "    a: 3\n",
        "    b: 1\n",
        "    n: 2\n",
        "\n",
        "    :param s: string a ser contada\n",
        "    :return:\n",
        "    \"\"\"\n",
        "    caracteres_ordenados = sorted(s)\n",
        "\n",
        "    caracter_anterior = caracteres_ordenados[0]\n",
        "    contagem = 1\n",
        "\n",
        "    for caracter in caracteres_ordenados[1:]:\n",
        "        if caracter == caracter_anterior:\n",
        "            contagem += 1\n",
        "        else:\n",
        "            print(f'{caracter_anterior}:{contagem}')\n",
        "            caracter_anterior = caracter\n",
        "            contagem = 1\n",
        "\n",
        "    print(f'{caracter_anterior}:{contagem}')\n",
        "\n",
        "\n",
        "\n",
        "contar_caracteres('luan')\n",
        "print()\n",
        "contar_caracteres('banana')"
      ],
      "execution_count": null,
      "outputs": [
        {
          "output_type": "stream",
          "name": "stdout",
          "text": [
            "a:1\n",
            "l:1\n",
            "n:1\n",
            "u:1\n",
            "\n",
            "a:3\n",
            "b:1\n",
            "n:2\n"
          ]
        }
      ]
    },
    {
      "cell_type": "markdown",
      "metadata": {
        "id": "rG60VAIinlUe"
      },
      "source": [
        "**Exercicio 5**. Nome na vertical em escada invertida. Altere o programa anterior de modo que a escada seja invertida. ***###fatiar strings***\n",
        "\n",
        "![image.png](data:image/png;base64,iVBORw0KGgoAAAANSUhEUgAAAFMAAABsCAYAAAAWno54AAAEa0lEQVR4Ae2c742jMBDFtyeqWqq4j1akq+DuOykE0UQkaqADnxyv7cExFxiPwZC30ops4r8/vxmbl2S/NH7ECHxtbWmaJo3fNAPAFBQHYAJmOsyOTj8MZY66+25008S/Sg+98s+391GP99b/rfq4ntIDUQUt23x3evSvuXqu/KCV69uXc2XsmFR/DGwGTDPQQavbMNuIhpudrIEym8yj0+o+hrK90gZ0WkWj7m6dHu5Kdw8KxAKk9Vx/pp3h1pA+Tdk2qk/bKvc4E6ZRhFOMHWQWTAfeXb06B62+O93dAiQP89HpNlrYKfWcb6tGmC7UGjmYo1ekVWgIdQtzJJA8zF4RVTpQcX33fNlrRcqcAwhgDYAfmM+Qtuq8IMzESvfdPF/FOTL620MzqvNqtxtJyJEBpsvXHiZRq8/DL2kiMc4CYZ+pzMQgo8l5WG7wCzBfyk1UqRTmpE3ZluRqswHNwJ9nA5ofQ5o4+U9msuFIFF6P6nkVtvrvn1DengTI8af5pX/7o5jLz+Z199gsKG07bFJeqW4hC1+ZykwosvBA9wbD6Q8wBUUAmIBZZ5qBMqFMKHPB3KgTDHZzwZAFTMD86DCnt27UbT/Saa9jQZhHo7qcdk5+K1EnE6ZRKTUcrMnBftvCWWfu6nOgdY2STrsvc7w6+TC96yMHM9hw1H4zkH4sOGLveT/zEjCf1pukMucAA1gCM+W0XwdmIrT2dtovDZOEoknyc4VNeirgtJfYTDhtMnJmdDSqwmlPRMgBimXArGPgHOWUrgOYggoGTMCsM9VAmVAmlAmnPf4CQenjxZnbR85EzrxMzoxuJ6kVV+Qz7XWCS6UjZpjv7bSfA2gmTEk/c9Lms+jPLxO4q2A+SylJ+jk+TBreZNI5XxAIdt3cKJaedKn2+DB3ddo/IswTkyzitCf6IdFQSmlb281UZmKSRZz2RD/XgBkdjYo77fN3P7eqZc/yTGWeQyl7gjR9AaZgugBMwKwzzUCZUCaUCacdTvv6KEDORM5cr5Y9D+4MZUa3k9SKy3Da95x0qb4YMI0qSjntdSpuLfxMmMJOu2D+WgtAshwfJg1vAiHHaZec2BFt8WGKO+3nDnGzeJkwEwC4TjtR9xGqkuhTHibTaZeYzNFtMGBGRyMBp33+f98Saj+JahkwzzvZ0soFTEHVAyZg1plqoEwoE8qE0w6nfX0UIGciZ65XS+mDOm2foczodpJacf912usEQGHkPmbANFAynHbBsMqdvHT9TJgMpx0ww55uV5P+T+D55yffOu2AmYDJddoBcwlmYlN557QD5gaY75x2wKQwo6PRaqc9oeKLgWXu5tcHwzk2AaZgdAAmYNaZZqBMKBPKhNMeTpj2EefI8Cl1kDORMy+TM6PbSeq0C67yGVMDM8yXnfYzQpAacybMV6ddamBnbIcPE+H9ctTjw1xw2s+oKKkxZ8Ksc1eVgrO1HcAUPIEwYEZHo4TTvnVFr1KeAROhvbT4gHlsmEOZUKagAgFzB5j/AFPAa8aQgTXYAAAAAElFTkSuQmCC)"
      ]
    },
    {
      "cell_type": "code",
      "metadata": {
        "colab": {
          "base_uri": "https://localhost:8080/"
        },
        "id": "mlr2t_IrnxsG",
        "outputId": "59e3bc9d-13c4-4a92-b24a-b3ca40c72874"
      },
      "source": [
        "s = input('Digite um nome: ').upper()\n",
        "while s != '':\n",
        "  print(s)\n",
        "  s = s[0:-1]\n"
      ],
      "execution_count": null,
      "outputs": [
        {
          "output_type": "stream",
          "name": "stdout",
          "text": [
            "Digite um nome: fulano\n",
            "FULANO\n",
            "FULAN\n",
            "FULA\n",
            "FUL\n",
            "FU\n",
            "F\n"
          ]
        }
      ]
    },
    {
      "cell_type": "markdown",
      "metadata": {
        "id": "cRyB8__iAbnu"
      },
      "source": [
        "## [Exercícios com arquivos](https://wiki.python.org.br/ExerciciosArquivos)"
      ]
    },
    {
      "cell_type": "markdown",
      "metadata": {
        "id": "swEPd6gtAtCm"
      },
      "source": [
        "**Exercício 1**. Faça um programa que leia um arquivo texto contendo uma lista de endereços IP e gere um outro arquivo, contendo um relatório dos endereços IP válidos e inválidos. **ABRIR ARQUIVOS**\n",
        "\n",
        "![image.png](data:image/png;base64,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)"
      ]
    },
    {
      "cell_type": "code",
      "metadata": {
        "id": "jkE_BRLR7rZK"
      },
      "source": [
        "def validar(ip:str) -> bool:\n",
        "  numeros = ip.split('.')\n",
        "\n",
        "  if len(numeros) != 4:\n",
        "    return False\n",
        "\n",
        "  for n in numeros:\n",
        "   if not (0 <= int(n) <= 255):\n",
        "     return False\n",
        "  return True\n",
        "\n",
        "ips_validos = []     \n",
        "ips_invalidos = []\n",
        "with open('sample_data/ips.txt', 'r') as arquivo:\n",
        "  for linha in arquivo:\n",
        "    ip = (linha.strip())    #strip-> remove espaços fazios, caracteres especiais, pular linha\n",
        "    if validar(ip):\n",
        "      ips_validos.append(ip)\n",
        "    else:\n",
        "      ips_invalidos.append(ip)  \n",
        "\n",
        "\n",
        "with open('sample_data/ips_saida.txt', 'w') as arquivo:\n",
        "  arquivo.writelines('[Endereços válidos:]\\n')    \n",
        "\n",
        "  for ip in ips_validos:\n",
        "    arquivo.writelines(f'{ip}\\n')\n",
        "\n",
        "  arquivo.writelines('\\n')\n",
        "  arquivo.writelines('\\n')\n",
        "  arquivo.writelines('[Endereços inválidos:]\\n')\n",
        "\n",
        "  for ip in ips_invalidos:\n",
        "    arquivo.writelines(f'{ip}\\n')"
      ],
      "execution_count": null,
      "outputs": []
    },
    {
      "cell_type": "markdown",
      "metadata": {
        "id": "n3DS3XGD40Vv"
      },
      "source": [
        "**Exercício 2**. A ACME Inc., uma empresa de 500 funcionários, está tendo problemas de espaço em disco no seu servidor de arquivos. Para tentar resolver este problema, o Administrador de Rede precisa saber qual o espaço ocupado pelos usuários, e identificar os usuários com maior espaço ocupado. Através de um programa, baixado da Internet, ele conseguiu gerar o seguinte arquivo, chamado \"usuarios.txt\":\n",
        "\n",
        "![image.png](data:image/png;base64,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)\n",
        "\n",
        "O arquivo de entrada deve ser lido uma única vez, e os dados armazenados em memória, caso sejam necessários, de forma a agilizar a execução do programa. A conversão da espaço ocupado em disco, de bytes para megabytes deverá ser feita através de uma função separada, que será chamada pelo programa principal. O cálculo do percentual de uso também deverá ser feito através de uma função, que será chamada pelo programa principal."
      ]
    },
    {
      "cell_type": "code",
      "metadata": {
        "id": "lNcfTKWDZtS_"
      },
      "source": [
        "lista_de_dados = []\n",
        "\n",
        "def transformar_em_megabytes (tamanho_em_bytes:str) -> float:\n",
        "  return int(tamanho_em_bytes)/ (2**10) **2\n",
        "\n",
        "with open('sample_data/usuarios.txt', 'r') as arquivo:\n",
        "  for linha in arquivo:\n",
        "    linha = linha.strip()\n",
        "    usuario = linha[0:15]\n",
        "    tamanho_em_disco = transformar_em_megabytes(linha[16:])\n",
        "    lista_de_dados.append((usuario, tamanho_em_disco))\n",
        "\n",
        "#print(lista_de_dados)\n",
        "\n",
        "cabecalho= '''ACME Inc.               Uso do espaço em disco pelos usuários\n",
        "------------------------------------------------------------------------\n",
        "Nr.  Usuário        Espaço utilizado     % do uso\n",
        "'''\n",
        "\n",
        "with open('sample_data/relatório.txt', 'w') as arquivo:\n",
        "  tamanho_total_consumido = sum([tamanho for _,tamanho in lista_de_dados])\n",
        "  media = tamanho_total_consumido / len(lista_de_dados)\n",
        "  arquivo.writelines(cabecalho)\n",
        "  for indice, dados in enumerate(lista_de_dados, start=1):  #enumerate -> retorna 2 elementos, o indice e os elementos da \"lista_de_dados\"\n",
        "    usuario, tamanho_em_disco = dados\n",
        "    arquivo.writelines(\n",
        "        f'{indice:<4}    {usuario} {tamanho_em_disco:9.2f} MB         '\n",
        "        f'{tamanho_em_disco / tamanho_total_consumido:>6.2%}\\n')\n",
        "    \n",
        "  arquivo.writelines('\\n')\n",
        "  arquivo.writelines(f'Espaço total ocupado: {tamanho_total_consumido:.2f} MB\\n')\n",
        "  arquivo.writelines(f'Espaço médio ocupado: {media:.2f} MB')"
      ],
      "execution_count": null,
      "outputs": []
    },
    {
      "cell_type": "markdown",
      "metadata": {
        "id": "mo-P52ou6AeF"
      },
      "source": [
        "##[Exercícios com Classes](https://wiki.python.org.br/ExerciciosClasses) "
      ]
    },
    {
      "cell_type": "markdown",
      "metadata": {
        "id": "pLhqloOC6R7z"
      },
      "source": [
        "**Exercício 1.** Crie uma classe que modele uma bola:\n",
        "\n",
        "Atributos: Cor, circunferência, material\n",
        "\n",
        "Métodos: troca_cor e mostra_cor"
      ]
    },
    {
      "cell_type": "code",
      "metadata": {
        "colab": {
          "base_uri": "https://localhost:8080/"
        },
        "id": "BDTl89HU6LSa",
        "outputId": "2f309d5a-816f-4eed-c07f-de85c0202965"
      },
      "source": [
        "class CirculoPerfeito:\n",
        "  def __init__ (self):\n",
        "    self.cor = 'Azul'                   #Atributos          \n",
        "    self.circuferencia = 4              #Atributos\n",
        "    self.material = 'Papel'             #Atributos\n",
        "\n",
        "  def mostra_cor(self):\n",
        "    return id(self) \n",
        "\n",
        "  def troca_cor(self, cor):\n",
        "    self.cor = cor   \n",
        "\n",
        "circulo_primeiro = CirculoPerfeito()             #circulo_primeiro e circulo_segundo são os objetos\n",
        "circulo_segundo = CirculoPerfeito()\n",
        "\n",
        "print(type(circulo_primeiro), type(circulo_segundo))\n",
        "print('\\n')\n",
        "\n",
        "print(circulo_primeiro is circulo_segundo)\n",
        "print('\\n')\n",
        "\n",
        "print(id(circulo_primeiro), circulo_primeiro.mostra_cor())\n",
        "print(id(circulo_segundo), circulo_segundo.mostra_cor())\n",
        "print('\\n')\n",
        "\n",
        "print(circulo_primeiro.cor, circulo_segundo.cor)\n",
        "circulo_primeiro.cor = 'Amarelo'\n",
        "print(circulo_primeiro.cor, circulo_segundo.cor)\n",
        "print('\\n')\n",
        "\n",
        "#Utilizando metodo troca_cor\n",
        "circulo_primeiro.troca_cor('Rosa')\n",
        "circulo_segundo.troca_cor('Violeta')\n",
        "print(circulo_primeiro.cor, circulo_segundo.cor)\n",
        "\n",
        "\n",
        "\n",
        "\n",
        "\n",
        "\n"
      ],
      "execution_count": null,
      "outputs": [
        {
          "output_type": "stream",
          "name": "stdout",
          "text": [
            "<class '__main__.CirculoPerfeito'> <class '__main__.CirculoPerfeito'>\n",
            "\n",
            "\n",
            "False\n",
            "\n",
            "\n",
            "140719259585488 140719259585488\n",
            "140719259582800 140719259582800\n",
            "\n",
            "\n",
            "Azul Azul\n",
            "Amarelo Azul\n",
            "\n",
            "\n",
            "Rosa Violeta\n"
          ]
        }
      ]
    },
    {
      "cell_type": "markdown",
      "metadata": {
        "id": "QcTS4vuSOscE"
      },
      "source": [
        "**Exercício 2.** Classe Quadrado: Crie uma classe que modele um quadrado:\n",
        "\n",
        "Atributos: Tamanho do lado\n",
        "\n",
        "Métodos: Mudar valor do Lado, Retornar valor do Lado e calcular Área;"
      ]
    },
    {
      "cell_type": "code",
      "metadata": {
        "colab": {
          "base_uri": "https://localhost:8080/"
        },
        "id": "Q2PXyOwOO5Sx",
        "outputId": "f2fe04e1-1b27-46ad-db17-67d479476a31"
      },
      "source": [
        "class Quadrado:\n",
        "  def __init__(self, lado = 1):\n",
        "    self.lado = lado\n",
        "\n",
        "  def calcular_area(self):\n",
        "    return self.lado ** 2\n",
        "\n",
        "quadrado = Quadrado(4)\n",
        "print(quadrado.lado, quadrado.calcular_area())    "
      ],
      "execution_count": null,
      "outputs": [
        {
          "output_type": "stream",
          "name": "stdout",
          "text": [
            "4 16\n"
          ]
        }
      ]
    },
    {
      "cell_type": "markdown",
      "metadata": {
        "id": "c7_mah4jVGgL"
      },
      "source": [
        "**Exercício 4.** Classe Pessoa: Crie uma classe que modele uma pessoa:\n",
        "\n",
        "\n",
        "*   a-) Atributos: nome, idade, peso e altura\n",
        "\n",
        "*   b-) Métodos: Envelhecer, engordar, emagrecer, crescer. Obs: Por padrão, a cada ano que nossa pessoa envelhece, sendo a idade dela menor que 21 anos, ela deve crescer 0,5 cm.\n",
        "\n",
        "\n",
        "\n",
        "\n"
      ]
    },
    {
      "cell_type": "code",
      "metadata": {
        "colab": {
          "base_uri": "https://localhost:8080/"
        },
        "id": "r1T8knfLVxml",
        "outputId": "102dfa02-f392-4aa7-bfd4-03ef341adfcc"
      },
      "source": [
        "class Pessoa:\n",
        "  def __init__(self, nome, idade, peso, altura):\n",
        "    self.nome = nome\n",
        "    self.idade = idade\n",
        "    self.peso = peso\n",
        "    self.altura = altura\n",
        "\n",
        "  def envelhecer(self):\n",
        "     if self.idade < 21:\n",
        "       self.altura += 0.5\n",
        "     self.idade +=1  \n",
        "\n",
        "otavio = Pessoa('otavio', 2, 12, 80)\n",
        "\n",
        "for _ in range(22):\n",
        "  otavio.envelhecer()\n",
        "  print(f'Idade de {otavio.nome} é : {otavio.idade} anos. Esua altura é {otavio.altura} cm.')"
      ],
      "execution_count": null,
      "outputs": [
        {
          "output_type": "stream",
          "name": "stdout",
          "text": [
            "Idade de otavio é : 3 anos. Esua altura é 80.5 cm.\n",
            "Idade de otavio é : 4 anos. Esua altura é 81.0 cm.\n",
            "Idade de otavio é : 5 anos. Esua altura é 81.5 cm.\n",
            "Idade de otavio é : 6 anos. Esua altura é 82.0 cm.\n",
            "Idade de otavio é : 7 anos. Esua altura é 82.5 cm.\n",
            "Idade de otavio é : 8 anos. Esua altura é 83.0 cm.\n",
            "Idade de otavio é : 9 anos. Esua altura é 83.5 cm.\n",
            "Idade de otavio é : 10 anos. Esua altura é 84.0 cm.\n",
            "Idade de otavio é : 11 anos. Esua altura é 84.5 cm.\n",
            "Idade de otavio é : 12 anos. Esua altura é 85.0 cm.\n",
            "Idade de otavio é : 13 anos. Esua altura é 85.5 cm.\n",
            "Idade de otavio é : 14 anos. Esua altura é 86.0 cm.\n",
            "Idade de otavio é : 15 anos. Esua altura é 86.5 cm.\n",
            "Idade de otavio é : 16 anos. Esua altura é 87.0 cm.\n",
            "Idade de otavio é : 17 anos. Esua altura é 87.5 cm.\n",
            "Idade de otavio é : 18 anos. Esua altura é 88.0 cm.\n",
            "Idade de otavio é : 19 anos. Esua altura é 88.5 cm.\n",
            "Idade de otavio é : 20 anos. Esua altura é 89.0 cm.\n",
            "Idade de otavio é : 21 anos. Esua altura é 89.5 cm.\n",
            "Idade de otavio é : 22 anos. Esua altura é 89.5 cm.\n",
            "Idade de otavio é : 23 anos. Esua altura é 89.5 cm.\n",
            "Idade de otavio é : 24 anos. Esua altura é 89.5 cm.\n"
          ]
        }
      ]
    },
    {
      "cell_type": "markdown",
      "metadata": {
        "id": "_mFqKzUlSc5Q"
      },
      "source": [
        "**Exercício 10.** Classe Bomba de Combustível: Faça um programa completo utilizando classes e métodos que:\n",
        "\n",
        "a-)Possua uma classe chamada BombaCombustível, com no mínimo esses atributos:\n",
        "\n",
        "*   tipo_combustivel.\n",
        "*   valor_litro\n",
        "*   quantidade_combustivel\n",
        "\n",
        "b-)Possua no mínimo esses métodos:\n",
        "*    abastecer_por_valor( ) – método onde é informado o valor a ser abastecido e mostra a quantidade de litros que foi colocada no veículo.\n",
        "*    abastecer_por_litro( ) – método onde é informado a quantidade em litros de combustível e mostra o valor a ser pago pelo cliente.\n",
        "*    alterar_valor( ) – altera o valor do litro do combustível.\n",
        "*    alterar_qombustivel( ) – altera o tipo do combustível.\n",
        "*    alterar_quantidade_combustivel( ) – altera a quantidade de combustível restante na bomba.\n",
        "   \n",
        "OBS: Sempre que acontecer um abastecimento é necessário atualizar a quantidade de combustível total na bomba.   \n",
        "\n"
      ]
    },
    {
      "cell_type": "code",
      "metadata": {
        "colab": {
          "base_uri": "https://localhost:8080/"
        },
        "id": "Saor33yhUTJ6",
        "outputId": "cabfd805-136a-497a-896a-103e19a50585"
      },
      "source": [
        "class BombaCombustivel:\n",
        "  def __init__(self, tipo_combustivel:str, valor_litro:float, quantidade_combustivel:float):\n",
        "    self.valor_litro = valor_litro\n",
        "    self.tipo_combustivel = tipo_combustivel\n",
        "    self.quantidade_combustivel = quantidade_combustivel\n",
        "\n",
        "  def abastecer_por_valor(self, valor:float):\n",
        "    litros_abastecidos = valor / self.valor_litro\n",
        "    self._apresentar_abastecimento_se_possivel(litros_abastecidos, valor)\n",
        "\n",
        "  def _apresentar_abastecimento_se_possivel(self, litros_abastecidos:float, valor:float):\n",
        "    if litros_abastecidos >self.quantidade_combustivel:\n",
        "      print(f'Não é possível abastecer {litros_abastecidos} litros de {self.tipo_combustivel}, faltam {litros_abastecidos - self.quantidade_combustivel:.2f} litros.')\n",
        "      print('Reabasteça a bomba!')\n",
        "    else:\n",
        "      self.quantidade_combustivel -= litros_abastecidos\n",
        "      print(f'Foram abatecidos {litros_abastecidos:.2f} litros a um valor de R$ {valor:.2f}.')\n",
        "      print(f'Sobraram na bomba {self.quantidade_combustivel:.2f} litros de {self.tipo_combustivel}')  \n",
        "\n",
        "  def abastecer_por_litros(self, litros_abastecidos:float):\n",
        "    valor = litros_abastecidos * self.valor_litro\n",
        "    self._apresentar_abastecimento_se_possivel(litros_abastecidos, valor)  \n",
        "\n",
        "  def adicionar_mais_combustivel(self, quantidade:float):\n",
        "    if quantidade >= 0:\n",
        "      self.quantidade_combustivel += quantidade\n",
        "    else:\n",
        "      print('Malandrinho, você não vai roubar combustivel dessa bomba!')    \n",
        "\n",
        "bomba = BombaCombustivel('Gasolina', 4.59, 100.0)\n",
        "\n",
        "bomba.abastecer_por_valor(100)\n",
        "\n",
        "bomba.abastecer_por_litros(50)\n",
        "\n",
        "bomba.valor_litro = 5.59\n",
        "bomba.abastecer_por_litros(50)\n",
        "\n",
        "bomba.adicionar_mais_combustivel(100)\n",
        "bomba.abastecer_por_litros(50)\n",
        "\n",
        "bomba.adicionar_mais_combustivel(-100)\n",
        "\n"
      ],
      "execution_count": null,
      "outputs": [
        {
          "output_type": "stream",
          "name": "stdout",
          "text": [
            "Foram abatecidos 21.79 litros a um valor de R$ 100.00.\n",
            "Sobraram na bomba 78.21 litros de Gasolina\n",
            "Foram abatecidos 50.00 litros a um valor de R$ 229.50.\n",
            "Sobraram na bomba 28.21 litros de Gasolina\n",
            "Não é possível abastecer 50 litros de Gasolina, faltam 21.79 litros.\n",
            "Reabasteça a bomba!\n",
            "Foram abatecidos 50.00 litros a um valor de R$ 279.50.\n",
            "Sobraram na bomba 78.21 litros de Gasolina\n",
            "Malandrinho, você não vai roubar combustivel dessa bomba!\n"
          ]
        }
      ]
    },
    {
      "cell_type": "code",
      "metadata": {
        "id": "g1MR0ofoGEWH"
      },
      "source": [
        ""
      ],
      "execution_count": null,
      "outputs": []
    }
  ]
}